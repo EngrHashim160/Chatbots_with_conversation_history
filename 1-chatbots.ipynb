{
 "cells": [
  {
   "cell_type": "code",
   "execution_count": 1,
   "metadata": {},
   "outputs": [],
   "source": [
    "import os\n",
    "from dotenv import load_dotenv\n",
    "load_dotenv() ## loading all the environment variables\n",
    "\n",
    "groq_api_key = os.getenv(\"GROQ_API_KEY\")"
   ]
  },
  {
   "cell_type": "code",
   "execution_count": 2,
   "metadata": {},
   "outputs": [],
   "source": [
    "from langchain_groq import ChatGroq\n",
    "model=ChatGroq(model=\"deepseek-r1-distill-llama-70b\",groq_api_key=groq_api_key)"
   ]
  },
  {
   "cell_type": "code",
   "execution_count": 4,
   "metadata": {},
   "outputs": [
    {
     "data": {
      "text/plain": [
       "AIMessage(content=\"<think>\\nOkay, so Hashim is a final year software engineering student. He probably has a lot on his plate with projects, exams, and maybe even looking for a job. I should consider what he might need help with. Maybe he's working on his thesis or a major project. He could be struggling with a particular programming language or a specific technology stack.\\n\\nI wonder if he's preparing for job applications. Many students at his stage are worried about interviews, resume building, or portfolio development. He might also be considering graduate studies, so he could be looking into that process as well.\\n\\nIt's possible he's dealing with time management, balancing academics with other responsibilities. Or perhaps he's looking for advice on the industry, like trends or career paths in software engineering.\\n\\nI should ask him how I can assist. Maybe he has specific questions or needs guidance in a certain area. Being supportive and offering resources could be really helpful for him right now.\\n</think>\\n\\nHi Hashim! Congratulations on reaching your final year of software engineering—that's a big milestone. How can I assist you today? Whether you need help with a project, advice on job applications, or guidance on anything else, feel free to ask!\", additional_kwargs={}, response_metadata={'token_usage': {'completion_tokens': 244, 'prompt_tokens': 17, 'total_tokens': 261, 'completion_time': 0.887272727, 'prompt_time': 0.005853352, 'queue_time': 0.129566471, 'total_time': 0.893126079}, 'model_name': 'deepseek-r1-distill-llama-70b', 'system_fingerprint': 'fp_af2982c95d', 'finish_reason': 'stop', 'logprobs': None}, id='run-56741a53-7127-4fa4-923a-e01dbb3c5aae-0', usage_metadata={'input_tokens': 17, 'output_tokens': 244, 'total_tokens': 261})"
      ]
     },
     "execution_count": 4,
     "metadata": {},
     "output_type": "execute_result"
    }
   ],
   "source": [
    "from langchain_core.messages import HumanMessage\n",
    "model.invoke([HumanMessage(content=\"Hi! This is Hashim, Student of final year software engineering.\")])"
   ]
  },
  {
   "cell_type": "code",
   "execution_count": 5,
   "metadata": {},
   "outputs": [
    {
     "data": {
      "text/plain": [
       "AIMessage(content='<think>\\nAlright, the user just asked, \"Hey What\\'s my name and what do I do?\" Let me look back at the conversation history. \\n\\nIn the first message, the user introduced himself as Hashim, a final year software engineering student. So his name is Hashim, and he\\'s studying software engineering. \\n\\nI should make sure to address him by his name to make the response personal. Also, I want to express that I\\'m here to help him with whatever he needs, whether it\\'s academic, career-related, or personal projects. \\n\\nI should keep the tone friendly and supportive, maybe add an emoji to make it feel more approachable. \\n\\nSo, I\\'ll start by greeting him, mention his name and what he does, and then offer assistance. That should cover his question and open the door for him to ask for help.\\n</think>\\n\\nHey Hashim! You\\'re a final-year software engineering student. How can I assist you today? Whether it\\'s with your studies, projects, or anything else, I\\'m here to help! 😊', additional_kwargs={}, response_metadata={'token_usage': {'completion_tokens': 217, 'prompt_tokens': 164, 'total_tokens': 381, 'completion_time': 0.789090909, 'prompt_time': 0.014417377, 'queue_time': 0.024961049, 'total_time': 0.803508286}, 'model_name': 'deepseek-r1-distill-llama-70b', 'system_fingerprint': 'fp_af2982c95d', 'finish_reason': 'stop', 'logprobs': None}, id='run-799fde27-a553-4853-a3f1-80411f47f403-0', usage_metadata={'input_tokens': 164, 'output_tokens': 217, 'total_tokens': 381})"
      ]
     },
     "execution_count": 5,
     "metadata": {},
     "output_type": "execute_result"
    }
   ],
   "source": [
    "from langchain_core.messages import AIMessage\n",
    "model.invoke(\n",
    "    [\n",
    "        HumanMessage(content = \"Hi! This is Hashim, Student of final year software engineering.\"),\n",
    "        AIMessage(content=\"Okay, so Hashim is a final year software engineering student. He probably has a lot on his plate with projects, exams, and maybe even looking for a job. I should consider what he might need help with. Maybe he's working on his thesis or a major project. He could be struggling with a particular programming language or a specific technology stack.\\n\\nI wonder if he's preparing for job applications. Many students at his stage are worried about interviews, resume building, or portfolio development. He might also be considering graduate studies, so he could be looking into that process as well.\\n\\nIt's possible he's dealing with time management, balancing academics with other responsibilities.\"),\n",
    "        HumanMessage(content=\"Hey What's my name and what do i do?\")\n",
    "    ]\n",
    ")"
   ]
  },
  {
   "cell_type": "markdown",
   "metadata": {},
   "source": [
    "### Message History"
   ]
  },
  {
   "cell_type": "code",
   "execution_count": 6,
   "metadata": {},
   "outputs": [],
   "source": [
    "from langchain_community.chat_message_histories import ChatMessageHistory\n",
    "from langchain_core.chat_history import BaseChatMessageHistory\n",
    "from langchain_core.runnables.history import RunnableWithMessageHistory\n",
    "\n",
    "store = {}\n",
    "def get_session_history(session_id:str)->BaseChatMessageHistory:\n",
    "    if session_id not in store:\n",
    "        store[session_id]=ChatMessageHistory()\n",
    "        \n",
    "    return store[session_id]"
   ]
  },
  {
   "cell_type": "code",
   "execution_count": 7,
   "metadata": {},
   "outputs": [],
   "source": [
    "config = {\"configurable\":{\"session_id\":\"chat1\"}}"
   ]
  },
  {
   "cell_type": "code",
   "execution_count": null,
   "metadata": {},
   "outputs": [],
   "source": []
  }
 ],
 "metadata": {
  "kernelspec": {
   "display_name": "Python 3",
   "language": "python",
   "name": "python3"
  },
  "language_info": {
   "codemirror_mode": {
    "name": "ipython",
    "version": 3
   },
   "file_extension": ".py",
   "mimetype": "text/x-python",
   "name": "python",
   "nbconvert_exporter": "python",
   "pygments_lexer": "ipython3",
   "version": "3.11.7"
  }
 },
 "nbformat": 4,
 "nbformat_minor": 2
}
