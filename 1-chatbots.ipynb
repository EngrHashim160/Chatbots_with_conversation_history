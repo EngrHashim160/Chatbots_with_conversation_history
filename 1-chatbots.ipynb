{
 "cells": [
  {
   "cell_type": "code",
   "execution_count": 1,
   "metadata": {},
   "outputs": [],
   "source": [
    "import os\n",
    "from dotenv import load_dotenv\n",
    "load_dotenv() ## loading all the environment variables\n",
    "\n",
    "groq_api_key = os.getenv(\"GROQ_API_KEY\")"
   ]
  },
  {
   "cell_type": "code",
   "execution_count": 2,
   "metadata": {},
   "outputs": [],
   "source": [
    "from langchain_groq import ChatGroq\n",
    "model=ChatGroq(model=\"deepseek-r1-distill-llama-70b\",groq_api_key=groq_api_key)"
   ]
  },
  {
   "cell_type": "code",
   "execution_count": 4,
   "metadata": {},
   "outputs": [
    {
     "data": {
      "text/plain": [
       "AIMessage(content=\"<think>\\nOkay, so Hashim is a final year software engineering student. He probably has a lot on his plate with projects, exams, and maybe even looking for a job. I should consider what he might need help with. Maybe he's working on his thesis or a major project. He could be struggling with a particular programming language or a specific technology stack.\\n\\nI wonder if he's preparing for job applications. Many students at his stage are worried about interviews, resume building, or portfolio development. He might also be considering graduate studies, so he could be looking into that process as well.\\n\\nIt's possible he's dealing with time management, balancing academics with other responsibilities. Or perhaps he's looking for advice on the industry, like trends or career paths in software engineering.\\n\\nI should ask him how I can assist. Maybe he has specific questions or needs guidance in a certain area. Being supportive and offering resources could be really helpful for him right now.\\n</think>\\n\\nHi Hashim! Congratulations on reaching your final year of software engineering—that's a big milestone. How can I assist you today? Whether you need help with a project, advice on job applications, or guidance on anything else, feel free to ask!\", additional_kwargs={}, response_metadata={'token_usage': {'completion_tokens': 244, 'prompt_tokens': 17, 'total_tokens': 261, 'completion_time': 0.887272727, 'prompt_time': 0.005853352, 'queue_time': 0.129566471, 'total_time': 0.893126079}, 'model_name': 'deepseek-r1-distill-llama-70b', 'system_fingerprint': 'fp_af2982c95d', 'finish_reason': 'stop', 'logprobs': None}, id='run-56741a53-7127-4fa4-923a-e01dbb3c5aae-0', usage_metadata={'input_tokens': 17, 'output_tokens': 244, 'total_tokens': 261})"
      ]
     },
     "execution_count": 4,
     "metadata": {},
     "output_type": "execute_result"
    }
   ],
   "source": [
    "from langchain_core.messages import HumanMessage\n",
    "model.invoke([HumanMessage(content=\"Hi! This is Hashim, Student of final year software engineering.\")])"
   ]
  },
  {
   "cell_type": "code",
   "execution_count": 5,
   "metadata": {},
   "outputs": [
    {
     "data": {
      "text/plain": [
       "AIMessage(content='<think>\\nAlright, the user just asked, \"Hey What\\'s my name and what do I do?\" Let me look back at the conversation history. \\n\\nIn the first message, the user introduced himself as Hashim, a final year software engineering student. So his name is Hashim, and he\\'s studying software engineering. \\n\\nI should make sure to address him by his name to make the response personal. Also, I want to express that I\\'m here to help him with whatever he needs, whether it\\'s academic, career-related, or personal projects. \\n\\nI should keep the tone friendly and supportive, maybe add an emoji to make it feel more approachable. \\n\\nSo, I\\'ll start by greeting him, mention his name and what he does, and then offer assistance. That should cover his question and open the door for him to ask for help.\\n</think>\\n\\nHey Hashim! You\\'re a final-year software engineering student. How can I assist you today? Whether it\\'s with your studies, projects, or anything else, I\\'m here to help! 😊', additional_kwargs={}, response_metadata={'token_usage': {'completion_tokens': 217, 'prompt_tokens': 164, 'total_tokens': 381, 'completion_time': 0.789090909, 'prompt_time': 0.014417377, 'queue_time': 0.024961049, 'total_time': 0.803508286}, 'model_name': 'deepseek-r1-distill-llama-70b', 'system_fingerprint': 'fp_af2982c95d', 'finish_reason': 'stop', 'logprobs': None}, id='run-799fde27-a553-4853-a3f1-80411f47f403-0', usage_metadata={'input_tokens': 164, 'output_tokens': 217, 'total_tokens': 381})"
      ]
     },
     "execution_count": 5,
     "metadata": {},
     "output_type": "execute_result"
    }
   ],
   "source": [
    "from langchain_core.messages import AIMessage\n",
    "model.invoke(\n",
    "    [\n",
    "        HumanMessage(content = \"Hi! This is Hashim, Student of final year software engineering.\"),\n",
    "        AIMessage(content=\"Okay, so Hashim is a final year software engineering student. He probably has a lot on his plate with projects, exams, and maybe even looking for a job. I should consider what he might need help with. Maybe he's working on his thesis or a major project. He could be struggling with a particular programming language or a specific technology stack.\\n\\nI wonder if he's preparing for job applications. Many students at his stage are worried about interviews, resume building, or portfolio development. He might also be considering graduate studies, so he could be looking into that process as well.\\n\\nIt's possible he's dealing with time management, balancing academics with other responsibilities.\"),\n",
    "        HumanMessage(content=\"Hey What's my name and what do i do?\")\n",
    "    ]\n",
    ")"
   ]
  },
  {
   "cell_type": "markdown",
   "metadata": {},
   "source": [
    "### Message History"
   ]
  },
  {
   "cell_type": "code",
   "execution_count": 8,
   "metadata": {},
   "outputs": [],
   "source": [
    "from langchain_community.chat_message_histories import ChatMessageHistory\n",
    "from langchain_core.chat_history import BaseChatMessageHistory\n",
    "from langchain_core.runnables.history import RunnableWithMessageHistory\n",
    "\n",
    "store = {}\n",
    "def get_session_history(session_id:str)->BaseChatMessageHistory:\n",
    "    if session_id not in store:\n",
    "        store[session_id]=ChatMessageHistory()\n",
    "\n",
    "    return store[session_id]\n",
    "\n",
    "with_message_history = RunnableWithMessageHistory(model, get_session_history)"
   ]
  },
  {
   "cell_type": "code",
   "execution_count": 9,
   "metadata": {},
   "outputs": [],
   "source": [
    "config = {\"configurable\":{\"session_id\":\"chat1\"}}"
   ]
  },
  {
   "cell_type": "code",
   "execution_count": 13,
   "metadata": {},
   "outputs": [],
   "source": [
    "response = with_message_history.invoke(\n",
    "    [\n",
    "        HumanMessage(content=\"Hi! This is Hashim, Student of final year software engineering.\")\n",
    "    ],\n",
    "    config=config\n",
    ")"
   ]
  },
  {
   "cell_type": "code",
   "execution_count": 14,
   "metadata": {},
   "outputs": [
    {
     "data": {
      "text/plain": [
       "\"<think>\\nAlright, so I'm Hashim, a final year software engineering student. I'm trying to figure out how to approach my last year effectively. There's a lot I need to do, but I'm not entirely sure where to start. Let me try to break this down.\\n\\nFirst, I know that building a strong portfolio is crucial for getting a good job after graduation. I've worked on a few projects, like that e-commerce website using Python and Django for the backend, and a mobile app using React Native. I should probably showcase these projects somehow. Maybe I can create a personal website or at least a GitHub profile where I can host my code. But wait, do I have enough projects? Should I start more to make my portfolio look better?\\n\\nThen there's the resume. I have a basic one, but I'm not sure if it's good enough. I've heard that tailoring your resume for each job application is important. How do I do that effectively without spending too much time on each application? Maybe I can create a master resume with all my experiences and skills and then pick and choose what to highlight for each job.\\n\\nLinkedIn is another thing I've been meaning to work on. I have a profile, but it's not very detailed. How important is it to have a strong LinkedIn presence? Should I start connecting with people in the industry? And how do I go about reaching out to them? I'm a bit shy about networking, especially with people I don't know.\\n\\nSpeaking of networking, I'm not sure how to start. Should I attend conferences or meetups? There are some online communities like GitHub and Stack Overflow where I can participate. But I'm not very active there yet. Maybe I can start by contributing to some open-source projects. That could also help me gain experience and make my resume stronger.\\n\\nOh, and I've heard that practice coding is essential for job interviews. I've been meaning to start practicing on platforms like LeetCode, but I haven't been consistent. How do I stay motivated to keep practicing? Maybe I can set aside a specific time each day or each week to work on coding problems.\\n\\nApplying for jobs is another big task. I'm not sure where to look for job openings. Should I use job boards like Indeed, or is it better to check company websites directly? And how do I know if I'm qualified for a particular job? I don't want to apply for positions that are way out of my league, but I also don't want to limit myself unnecessarily.\\n\\nInternships seem like a good way to gain experience, but I'm not sure if I should focus on internships or full-time jobs right now. Maybe I can apply for both and see what opportunities come up. But then, how do I balance applying for jobs with finishing my degree and other responsibilities?\\n\\nI also need to think about my long-term career goals. Do I want to work in a specific industry, like web development or mobile app development? Or maybe I'm interested in emerging fields like AI or cybersecurity. How do I decide? Maybe I can research different career paths and see which ones align with my interests and skills.\\n\\nSkill development is another area I need to focus on. I know I should keep learning new technologies and tools. But with so many options out there, how do I choose what to learn next? Should I stick with what I know or explore completely new areas? Maybe I can ask my professors or more experienced peers for advice.\\n\\nTime management is going to be crucial. I have to juggle classes, projects, job applications, and maybe even an internship. How do I prioritize my tasks effectively? Maybe I can use tools like Trello or Asana to keep track of everything. But I'm not sure how to set realistic deadlines and avoid procrastination.\\n\\nI'm also thinking about whether I should pursue a master's degree after graduation. I've heard that having a master's can open up more opportunities, but it's also a big commitment in terms of time and money. How do I decide if it's worth it for my career goals? Maybe I can talk to alumni from my university or professionals in the field to get their insights.\\n\\nOverall, I'm feeling a bit overwhelmed with everything I need to do. How do I stay organized and motivated? Maybe I can set small, achievable goals and celebrate when I reach them. It might also help to have a support system, like study groups or friends who are going through the same thing.\\n\\nI think the key is to take it one step at a time and not get discouraged if things don't go as planned. It's important to stay flexible and open to different opportunities. I need to believe in myself and my abilities, even when things seem tough.\\n\\nAlright, I think I have a rough idea of what I need to do. Now I just need to start taking action, even if it's just one small step at a time.\\n</think>\\n\\nHashim, a final year software engineering student, is thoughtfully navigating the challenges of his last year of study. He recognizes the importance of building a strong portfolio, enhancing his resume, and establishing an online presence through LinkedIn. Hashim is also considering ways to network, whether through online communities or contributing to open-source projects, to gain experience and strengthen his resume.\\n\\nHe is proactive about preparing for job applications by practicing coding on platforms like LeetCode, although he struggles with consistency. Hashim is exploring job opportunities, weighing the pros and cons of internships versus full-time positions, and considering his long-term career goals, including the possibility of a master's degree.\\n\\nTime management is a priority for Hashim, who plans to use tools like Trello to organize his tasks and set realistic deadlines. He is also reflecting on his career path, seeking advice from professors and professionals to align his skills and interests with the right opportunities.\\n\\nDespite feeling overwhelmed, Hashim is determined to take it one step at a time, setting achievable goals and maintaining motivation through self-belief and a support system. His approach is flexible and open to different opportunities, emphasizing the importance of staying organized and motivated as he transitions into his career.\""
      ]
     },
     "execution_count": 14,
     "metadata": {},
     "output_type": "execute_result"
    }
   ],
   "source": [
    "response.content"
   ]
  },
  {
   "cell_type": "code",
   "execution_count": 15,
   "metadata": {},
   "outputs": [
    {
     "data": {
      "text/plain": [
       "AIMessage(content='<think>\\nOkay, so the user is Hashim, a final year software engineering student. He\\'s been interacting with me, sharing about his studies and seeking advice on things like portfolio development, resume building, and job preparation. Now, he\\'s asking, \"Hi! What\\'s my name?\" \\n\\nHmm, that\\'s interesting. He knows his name is Hashim, as he\\'s introduced himself before. Maybe he\\'s testing if I remember him or if I can recall past interactions. Or perhaps he\\'s just being friendly and starting a conversation again. \\n\\nI should respond in a way that\\'s friendly and acknowledges his name. Maybe add a smiley to keep it warm and approachable. Also, I can offer further assistance to show I\\'m here to help with whatever he needs next.\\n\\nI need to make sure my response is clear and not too lengthy. Just a simple greeting with his name and an offer to help. That should cover his potential needs without overcomplicating things.\\n</think>\\n\\nYour name is Hashim! How can I assist you today? 😊', additional_kwargs={}, response_metadata={'token_usage': {'completion_tokens': 216, 'prompt_tokens': 780, 'total_tokens': 996, 'completion_time': 0.785454545, 'prompt_time': 0.040096267, 'queue_time': 0.02433572700000001, 'total_time': 0.825550812}, 'model_name': 'deepseek-r1-distill-llama-70b', 'system_fingerprint': 'fp_af2982c95d', 'finish_reason': 'stop', 'logprobs': None}, id='run-90b0dfc2-7d0d-4e31-9e00-486a9003daee-0', usage_metadata={'input_tokens': 780, 'output_tokens': 216, 'total_tokens': 996})"
      ]
     },
     "execution_count": 15,
     "metadata": {},
     "output_type": "execute_result"
    }
   ],
   "source": [
    "with_message_history.invoke(\n",
    "    [\n",
    "        HumanMessage(content=\"Hi! What's my name?\")\n",
    "    ],\n",
    "    config=config\n",
    ")"
   ]
  },
  {
   "cell_type": "markdown",
   "metadata": {},
   "source": [
    "##### Change the config-->session id"
   ]
  },
  {
   "cell_type": "code",
   "execution_count": 21,
   "metadata": {},
   "outputs": [],
   "source": [
    "config = {\"configurable\":{\"session_id\":\"chat2\"}}"
   ]
  },
  {
   "cell_type": "code",
   "execution_count": 22,
   "metadata": {},
   "outputs": [
    {
     "data": {
      "text/plain": [
       "AIMessage(content='<think>\\nAlright, the user greeted me again with \"Hi! What\\'s my name?\" I remember from the history that they asked the same question before. Last time, I explained that I can\\'t access personal info unless they share it. I should be consistent in my response. Maybe they\\'re testing if I remember or if I can retrieve their name somehow. I need to stay friendly and helpful without overstepping. I\\'ll acknowledge their greeting and offer assistance again, keeping the tone light and open. That way, I encourage them to share more if they want.\\n</think>\\n\\nHi! I don’t have access to personal information unless you share it with me. How can I assist you today? 😊', additional_kwargs={}, response_metadata={'token_usage': {'completion_tokens': 143, 'prompt_tokens': 47, 'total_tokens': 190, 'completion_time': 0.52, 'prompt_time': 0.004880694, 'queue_time': 0.02196696, 'total_time': 0.524880694}, 'model_name': 'deepseek-r1-distill-llama-70b', 'system_fingerprint': 'fp_56194c30d4', 'finish_reason': 'stop', 'logprobs': None}, id='run-4cb29b44-f28c-4fdc-9eff-f2bc3b8ab51b-0', usage_metadata={'input_tokens': 47, 'output_tokens': 143, 'total_tokens': 190})"
      ]
     },
     "execution_count": 22,
     "metadata": {},
     "output_type": "execute_result"
    }
   ],
   "source": [
    "with_message_history.invoke(\n",
    "    [\n",
    "        HumanMessage(content=\"Hi! What's my name?\")\n",
    "    ],\n",
    "    config=config\n",
    ")"
   ]
  },
  {
   "cell_type": "code",
   "execution_count": null,
   "metadata": {},
   "outputs": [],
   "source": []
  }
 ],
 "metadata": {
  "kernelspec": {
   "display_name": "Python 3",
   "language": "python",
   "name": "python3"
  },
  "language_info": {
   "codemirror_mode": {
    "name": "ipython",
    "version": 3
   },
   "file_extension": ".py",
   "mimetype": "text/x-python",
   "name": "python",
   "nbconvert_exporter": "python",
   "pygments_lexer": "ipython3",
   "version": "3.11.7"
  }
 },
 "nbformat": 4,
 "nbformat_minor": 2
}
