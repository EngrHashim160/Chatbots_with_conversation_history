{
 "cells": [
  {
   "cell_type": "code",
   "execution_count": 2,
   "metadata": {},
   "outputs": [],
   "source": [
    "import os\n",
    "from dotenv import load_dotenv\n",
    "load_dotenv() ## loading all the environment variables\n",
    "\n",
    "groq_api_key = os.getenv(\"GROQ_API_KEY\")"
   ]
  },
  {
   "cell_type": "code",
   "execution_count": 3,
   "metadata": {},
   "outputs": [],
   "source": [
    "from langchain_groq import ChatGroq\n",
    "model=ChatGroq(model=\"deepseek-r1-distill-llama-70b\",groq_api_key=groq_api_key)"
   ]
  },
  {
   "cell_type": "code",
   "execution_count": 4,
   "metadata": {},
   "outputs": [
    {
     "data": {
      "text/plain": [
       "AIMessage(content=\"<think>\\nOkay, so I'm trying to figure out how to approach this problem. The user mentioned they're a final-year software engineering student, and they're probably looking for help with something related to their studies or projects. Let me think about the different areas they might need assistance in.\\n\\nFirst, I should consider what a final-year student usually deals with. They might be working on their thesis or final project, preparing for exams, looking for job opportunities, or maybe even dealing with coursework. Since the user didn't specify, I should keep my response open and offer help in various areas.\\n\\nI remember when I was in my final year, I struggled a bit with structuring my project and understanding some complex topics. So, maybe the user is facing similar issues. They could be working on a software development project, perhaps using specific technologies or frameworks. I should ask them about the programming languages or tools they're using so I can provide more tailored advice.\\n\\nAlso, final-year students often have to deal with system design or architecture, which can be challenging. If they're designing a system, I could help with that by breaking it down into components and suggesting design patterns. Alternatively, if they're working on a thesis, they might need help with research methods or data analysis.\\n\\nAnother possibility is that they're preparing for technical interviews. Many students in their final year start applying for jobs and might need assistance with practice problems or interview preparation strategies. I should consider offering help with mock interviews or coding problems.\\n\\nI should also think about common challenges like project management. Managing a large project can be overwhelming, so offering tips on using Agile methodologies or tools like Jira could be helpful. Maybe they're struggling with time management or prioritizing tasks, so advice on that front would be useful.\\n\\nAdditionally, if they're dealing with specific technologies, like machine learning, web development, or mobile apps, I should be ready to dive deeper into those areas. For example, if they're building a web app, I can guide them on front-end and back-end integration, database management, or deployment strategies.\\n\\nI should also consider the possibility that they're working on a research project and might need help with literature reviews, methodologies, or data collection. Offering to help structure their research or analyze data could be beneficial.\\n\\nIn summary, the user might need help in several areas: project development, exam preparation, interview prep, research, or general study tips. My response should be open-ended, inviting them to specify their needs so I can provide the most relevant assistance. I'll make sure to ask about their specific focus and offer help in those areas, whether it's coding, system design, research, or something else.\\n</think>\\n\\nCertainly! It sounds like you might need assistance in several areas as a final-year software engineering student. Here's how I can help:\\n\\n1. **Project Development**: If you're working on a thesis or final project, I can assist with structuring your project, understanding complex topics, or using specific technologies and frameworks. Let me know the programming languages or tools you're using for more tailored advice.\\n\\n2. **System Design/Architecture**: If you're designing a system, I can help break it down into components and suggest design patterns or methodologies.\\n\\n3. **Interview Preparation**: If you're preparing for technical interviews, I can help with practice problems, mock interviews, or strategies to improve your performance.\\n\\n4. **Project Management**: I can offer tips on using Agile methodologies or tools like Jira, and advice on time management and task prioritization.\\n\\n5. **Specific Technologies**: Whether you're working on machine learning, web development, or mobile apps, I can guide you on front-end/back-end integration, database management, or deployment strategies.\\n\\n6. **Research Project**: If you're involved in research, I can help with literature reviews, methodologies, data analysis, or structuring your research.\\n\\nFeel free to specify your needs, and I'll provide the most relevant assistance! How can I help you today?\", additional_kwargs={}, response_metadata={'token_usage': {'completion_tokens': 808, 'prompt_tokens': 17, 'total_tokens': 825, 'completion_time': 2.938181818, 'prompt_time': 0.003938732, 'queue_time': 0.019500402, 'total_time': 2.94212055}, 'model_name': 'deepseek-r1-distill-llama-70b', 'system_fingerprint': 'fp_56194c30d4', 'finish_reason': 'stop', 'logprobs': None}, id='run-4d73d19b-f22f-4b54-88c4-98f6014f04d4-0', usage_metadata={'input_tokens': 17, 'output_tokens': 808, 'total_tokens': 825})"
      ]
     },
     "execution_count": 4,
     "metadata": {},
     "output_type": "execute_result"
    }
   ],
   "source": [
    "from langchain_core.messages import HumanMessage\n",
    "model.invoke([HumanMessage(content=\"Hi! This is Hashim, Student of final year software engineering.\")])"
   ]
  },
  {
   "cell_type": "code",
   "execution_count": 5,
   "metadata": {},
   "outputs": [
    {
     "data": {
      "text/plain": [
       "AIMessage(content='<think>\\nAlright, the user asked, \"Hey What\\'s my name and what do I do?\" Looking back at the conversation history, he introduced himself as Hashim, a final year software engineering student. So, he\\'s testing if I remember that information.\\n\\nI should respond by recalling his name and his role. It\\'s important to be accurate to show that I pay attention and can retain information from previous interactions. Also, adding a friendly emoji can make the response feel more personable.\\n\\nI need to make sure my reply is clear and concise. Maybe something like, \"Your name is Hashim, and you\\'re a final year Software Engineering student! 😊\" That should cover both parts of his question effectively.\\n</think>\\n\\nYour name is Hashim, and you\\'re a final year Software Engineering student! 😊', additional_kwargs={}, response_metadata={'token_usage': {'completion_tokens': 165, 'prompt_tokens': 164, 'total_tokens': 329, 'completion_time': 0.6, 'prompt_time': 0.010646207, 'queue_time': 0.021557996000000003, 'total_time': 0.610646207}, 'model_name': 'deepseek-r1-distill-llama-70b', 'system_fingerprint': 'fp_56194c30d4', 'finish_reason': 'stop', 'logprobs': None}, id='run-ef676ab4-0647-4a51-a06c-1220ca025030-0', usage_metadata={'input_tokens': 164, 'output_tokens': 165, 'total_tokens': 329})"
      ]
     },
     "execution_count": 5,
     "metadata": {},
     "output_type": "execute_result"
    }
   ],
   "source": [
    "from langchain_core.messages import AIMessage\n",
    "model.invoke(\n",
    "    [\n",
    "        HumanMessage(content = \"Hi! This is Hashim, Student of final year software engineering.\"),\n",
    "        AIMessage(content=\"Okay, so Hashim is a final year software engineering student. He probably has a lot on his plate with projects, exams, and maybe even looking for a job. I should consider what he might need help with. Maybe he's working on his thesis or a major project. He could be struggling with a particular programming language or a specific technology stack.\\n\\nI wonder if he's preparing for job applications. Many students at his stage are worried about interviews, resume building, or portfolio development. He might also be considering graduate studies, so he could be looking into that process as well.\\n\\nIt's possible he's dealing with time management, balancing academics with other responsibilities.\"),\n",
    "        HumanMessage(content=\"Hey What's my name and what do i do?\")\n",
    "    ]\n",
    ")"
   ]
  },
  {
   "cell_type": "markdown",
   "metadata": {},
   "source": [
    "### Message History"
   ]
  },
  {
   "cell_type": "code",
   "execution_count": 6,
   "metadata": {},
   "outputs": [],
   "source": [
    "from langchain_community.chat_message_histories import ChatMessageHistory\n",
    "from langchain_core.chat_history import BaseChatMessageHistory\n",
    "from langchain_core.runnables.history import RunnableWithMessageHistory\n",
    "\n",
    "store = {}\n",
    "def get_session_history(session_id:str)->BaseChatMessageHistory:\n",
    "    if session_id not in store:\n",
    "        store[session_id]=ChatMessageHistory()\n",
    "\n",
    "    return store[session_id]\n",
    "\n",
    "with_message_history = RunnableWithMessageHistory(model, get_session_history)"
   ]
  },
  {
   "cell_type": "code",
   "execution_count": 7,
   "metadata": {},
   "outputs": [],
   "source": [
    "config = {\"configurable\":{\"session_id\":\"chat1\"}}"
   ]
  },
  {
   "cell_type": "code",
   "execution_count": 8,
   "metadata": {},
   "outputs": [],
   "source": [
    "response = with_message_history.invoke(\n",
    "    [\n",
    "        HumanMessage(content=\"Hi! This is Hashim, Student of final year software engineering.\")\n",
    "    ],\n",
    "    config=config\n",
    ")"
   ]
  },
  {
   "cell_type": "code",
   "execution_count": 9,
   "metadata": {},
   "outputs": [
    {
     "data": {
      "text/plain": [
       "\"<think>\\nOkay, so I just started talking to Hashim, a final year software engineering student. He's probably looking for some advice or maybe just starting a conversation. I should think about what he might need help with. Since he's in his final year, he might be dealing with his thesis or final project, preparing for the job market, or maybe considering further studies.\\n\\nI should consider possible questions he might have. Maybe he's struggling with a particular programming concept, or perhaps he's looking for tips on acing job interviews. It's also possible he's unsure about his career path after graduation. I should be ready to offer advice on resume building, interview preparation, or even choosing between different areas in software engineering like web dev, mobile apps, AI, etc.\\n\\nI wonder if he's working on any exciting projects. Maybe I can ask him about that to get a better idea of how to assist him. If he's stuck on a coding problem, I can help debug or suggest resources. If he's looking for job search strategies, I can share tips on networking, online profiles, or practice interviews.\\n\\nAlso, considering he's a final year student, time management might be an issue. Balancing studies, projects, and job applications can be tough. Perhaps he needs advice on managing his time effectively or prioritizing tasks.\\n\\nI should keep my responses friendly and supportive, making sure he feels comfortable asking anything. Maybe start by acknowledging his situation and offering help in specific areas. That way, he can guide the conversation to what he needs most.\\n</think>\\n\\nHello Hashim! It's great to hear from you. As a final year software engineering student, you're likely juggling several responsibilities, from your thesis or final project to preparing for the job market or further studies. Here are a few areas where I can offer support:\\n\\n1. **Academic Projects**: If you're working on a thesis or final project, I can help brainstorm ideas, provide guidance on research, or assist with troubleshooting any technical challenges you might face.\\n\\n2. **Career Preparation**: If you're looking to enter the job market, I can offer tips on resume building, interview preparation, and job search strategies. Whether it's practicing coding interviews or understanding the industry trends, I'm here to help.\\n\\n3. **Skill Development**: If you're considering specializing in a particular area of software engineering, such as web development, mobile apps, or AI, I can suggest resources and pathways to explore these fields.\\n\\n4. **Time Management**: Balancing studies, projects, and job applications can be overwhelming. I can share strategies for effective time management and prioritizing tasks.\\n\\n5. **Networking and Online Presence**: Building a strong LinkedIn profile or personal portfolio can be crucial. I can offer advice on how to showcase your skills and projects effectively.\\n\\nFeel free to ask me anything specific you need help with, or just share what's on your mind. I'm here to support you in any way I can!\""
      ]
     },
     "execution_count": 9,
     "metadata": {},
     "output_type": "execute_result"
    }
   ],
   "source": [
    "response.content"
   ]
  },
  {
   "cell_type": "code",
   "execution_count": 10,
   "metadata": {},
   "outputs": [
    {
     "data": {
      "text/plain": [
       "AIMessage(content='<think>\\n\\nHi! Your name is Hashim.', additional_kwargs={}, response_metadata={'token_usage': {'completion_tokens': 11, 'prompt_tokens': 313, 'total_tokens': 324, 'completion_time': 0.04, 'prompt_time': 0.018325166, 'queue_time': 0.022818871, 'total_time': 0.058325166}, 'model_name': 'deepseek-r1-distill-llama-70b', 'system_fingerprint': 'fp_af2982c95d', 'finish_reason': 'stop', 'logprobs': None}, id='run-3eabf69d-e876-4ed4-9932-dfdd9dbddeaa-0', usage_metadata={'input_tokens': 313, 'output_tokens': 11, 'total_tokens': 324})"
      ]
     },
     "execution_count": 10,
     "metadata": {},
     "output_type": "execute_result"
    }
   ],
   "source": [
    "with_message_history.invoke(\n",
    "    [\n",
    "        HumanMessage(content=\"Hi! What's my name?\")\n",
    "    ],\n",
    "    config=config\n",
    ")"
   ]
  },
  {
   "cell_type": "markdown",
   "metadata": {},
   "source": [
    "##### Change the config-->session id"
   ]
  },
  {
   "cell_type": "code",
   "execution_count": 11,
   "metadata": {},
   "outputs": [],
   "source": [
    "config = {\"configurable\":{\"session_id\":\"chat2\"}}"
   ]
  },
  {
   "cell_type": "code",
   "execution_count": 12,
   "metadata": {},
   "outputs": [
    {
     "data": {
      "text/plain": [
       "AIMessage(content='<think>\\n\\n</think>\\n\\nHi! I don’t have access to personal information unless you share it with me. How can I assist you today?', additional_kwargs={}, response_metadata={'token_usage': {'completion_tokens': 29, 'prompt_tokens': 10, 'total_tokens': 39, 'completion_time': 0.105454545, 'prompt_time': 0.003493113, 'queue_time': 0.03021575, 'total_time': 0.108947658}, 'model_name': 'deepseek-r1-distill-llama-70b', 'system_fingerprint': 'fp_af2982c95d', 'finish_reason': 'stop', 'logprobs': None}, id='run-cab14bfc-9a06-4277-9d79-9749a66ecddd-0', usage_metadata={'input_tokens': 10, 'output_tokens': 29, 'total_tokens': 39})"
      ]
     },
     "execution_count": 12,
     "metadata": {},
     "output_type": "execute_result"
    }
   ],
   "source": [
    "with_message_history.invoke(\n",
    "    [\n",
    "        HumanMessage(content=\"Hi! What's my name?\")\n",
    "    ],\n",
    "    config=config\n",
    ")"
   ]
  },
  {
   "cell_type": "markdown",
   "metadata": {},
   "source": [
    "# Prompt Templates"
   ]
  },
  {
   "cell_type": "code",
   "execution_count": 13,
   "metadata": {},
   "outputs": [],
   "source": [
    "from langchain_core.prompts import ChatPromptTemplate, MessagesPlaceholder\n",
    "prompt = ChatPromptTemplate.from_messages(\n",
    "    [\n",
    "        (\"system\", \"You are an AI Instructor. Answer all questions to the nest of your ability.\"),\n",
    "        MessagesPlaceholder(variable_name=\"messages\")\n",
    "    ]\n",
    ")\n",
    "\n",
    "chain = prompt|model"
   ]
  },
  {
   "cell_type": "code",
   "execution_count": 14,
   "metadata": {},
   "outputs": [
    {
     "data": {
      "text/plain": [
       "AIMessage(content='<think>\\nOkay, so I need to figure out how to respond to someone named Hashim who just introduced himself. The user is acting as an AI instructor, so I should maintain a helpful and polite tone. First, I should acknowledge his greeting warmly. Maybe start with a greeting of my own, like \"Hello Hashim!\" to make it personal. Then, I should express that I\\'m ready to assist him, perhaps by saying something like, \"How can I assist you today?\" That way, it\\'s open-ended and invites him to share what he needs help with. I should keep the response friendly and approachable, making sure it\\'s clear that I\\'m here to help with any questions or tasks he has. Let me put that together in a natural way without sounding too formal or robotic.\\n</think>\\n\\nHello Hashim! How can I assist you today?', additional_kwargs={}, response_metadata={'token_usage': {'completion_tokens': 175, 'prompt_tokens': 26, 'total_tokens': 201, 'completion_time': 0.636363636, 'prompt_time': 0.004159127, 'queue_time': 0.022489348, 'total_time': 0.640522763}, 'model_name': 'deepseek-r1-distill-llama-70b', 'system_fingerprint': 'fp_af2982c95d', 'finish_reason': 'stop', 'logprobs': None}, id='run-030e5603-5e99-4338-8dad-16de28c73bc0-0', usage_metadata={'input_tokens': 26, 'output_tokens': 175, 'total_tokens': 201})"
      ]
     },
     "execution_count": 14,
     "metadata": {},
     "output_type": "execute_result"
    }
   ],
   "source": [
    "chain.invoke({\"messages\":[HumanMessage(content=\"Hi! My name is Hashim\")]})"
   ]
  },
  {
   "cell_type": "code",
   "execution_count": 15,
   "metadata": {},
   "outputs": [],
   "source": [
    "with_message_history=RunnableWithMessageHistory(chain, get_session_history)"
   ]
  },
  {
   "cell_type": "code",
   "execution_count": 16,
   "metadata": {},
   "outputs": [],
   "source": [
    "config = {\"configurable\":{\"session_id\":\"chat3\"}}\n",
    "response = with_message_history.invoke(\n",
    "    [HumanMessage(content=\"Hi! My name is Moona\")],\n",
    "    config=config\n",
    ")"
   ]
  },
  {
   "cell_type": "code",
   "execution_count": 18,
   "metadata": {},
   "outputs": [
    {
     "data": {
      "text/plain": [
       "\"<think>\\nOkay, so I just met this AI instructor who greeted me as Moona. I want to make sure I understand what they're saying. They mentioned they're here to help with any questions I have. I should think about how to respond appropriately.\\n\\nHmm, maybe I should start by acknowledging their greeting. Then, I can ask a question to get the conversation going. But what kind of questions should I ask? Since they're an AI instructor, maybe they can help with homework, learning new things, or even just casual conversation.\\n\\nWait, I'm a bit confused about what exactly an AI instructor can do. Are they here to teach me something specific, or can they assist with a variety of topics? I should clarify that. Maybe I can ask them about their capabilities.\\n\\nAlso, I wonder if they can help me improve my learning skills or provide study tips. That would be really helpful. I should ask them about that too.\\n\\nI'm a bit nervous about how to phrase my questions. I don't want to ask something too vague. Maybe I should start with something simple, like asking them to explain a concept I'm struggling with in school.\\n\\nBut before that, I should probably introduce myself a bit more so they know what I'm interested in. That way, they can tailor their help to my needs. Yeah, that makes sense.\\n\\nWait, but I already told them my name is Moona. Maybe I should mention my age or what I'm studying. That could help them provide more relevant assistance.\\n\\nI'm also thinking about how interactive this can be. Can they engage in discussions, or is it more of a Q&A format? I hope it's more interactive because that would make learning more fun.\\n\\nI should also consider if there are any specific topics I want to focus on. For example, if I'm struggling with math or science, I can ask them for help in those areas. But I'm not sure yet. Maybe I'll start with a general question to see how they respond.\\n\\nOh, and I wonder if they can provide resources or study materials. That would be really useful. I'll have to ask them about that.\\n\\nAlright, so to sum up my thoughts: I should acknowledge their greeting, maybe ask about their capabilities, introduce myself a bit more, and then dive into specific questions or areas where I need help. That way, I can get the most out of this interaction.\\n\\nI'm a bit excited but also a little unsure about how to proceed. I guess the best way is to just start asking and see how it goes. I'll take it step by step and adjust based on their responses.\\n</think>\\n\\nHello! It's nice to meet you, Moona. I'm here to help with a wide range of topics, whether it's homework, learning new skills, or just chatting. My capabilities include explaining concepts, offering study tips, and providing resources. I can assist with various subjects like math or science, so feel free to ask about anything you're struggling with or interested in. I'm here to make learning fun and interactive, so let's dive in and see how I can assist you best!\""
      ]
     },
     "execution_count": 18,
     "metadata": {},
     "output_type": "execute_result"
    }
   ],
   "source": [
    "response.content"
   ]
  },
  {
   "cell_type": "code",
   "execution_count": 19,
   "metadata": {},
   "outputs": [
    {
     "data": {
      "text/plain": [
       "'<think>\\n\\nAlright, the user just asked, \"What\\'s my name?\" Looking back at the history, they introduced themselves as Moona. So, they\\'re either testing if I remember or just making conversation. I should respond in a friendly and affirming way, maybe add a compliment to make it engaging. I want to keep the interaction positive and show that I\\'m attentive to our conversation. Let\\'s say something like, \"Your name is Moona! It\\'s such a beautiful name.\" That should cover it nicely.'"
      ]
     },
     "execution_count": 19,
     "metadata": {},
     "output_type": "execute_result"
    }
   ],
   "source": [
    "response = with_message_history.invoke(\n",
    "    [HumanMessage(content=\"What's my name?\")],\n",
    "    config=config\n",
    ")\n",
    "response.content"
   ]
  },
  {
   "cell_type": "code",
   "execution_count": null,
   "metadata": {},
   "outputs": [],
   "source": []
  }
 ],
 "metadata": {
  "kernelspec": {
   "display_name": "Python 3",
   "language": "python",
   "name": "python3"
  },
  "language_info": {
   "codemirror_mode": {
    "name": "ipython",
    "version": 3
   },
   "file_extension": ".py",
   "mimetype": "text/x-python",
   "name": "python",
   "nbconvert_exporter": "python",
   "pygments_lexer": "ipython3",
   "version": "3.11.7"
  }
 },
 "nbformat": 4,
 "nbformat_minor": 2
}
