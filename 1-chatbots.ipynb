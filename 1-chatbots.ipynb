{
 "cells": [
  {
   "cell_type": "code",
   "execution_count": 1,
   "metadata": {},
   "outputs": [],
   "source": [
    "import os\n",
    "from dotenv import load_dotenv\n",
    "load_dotenv() ## loading all the environment variables\n",
    "\n",
    "groq_api_key = os.getenv(\"GROQ_API_KEY\")"
   ]
  },
  {
   "cell_type": "code",
   "execution_count": 2,
   "metadata": {},
   "outputs": [],
   "source": [
    "from langchain_groq import ChatGroq\n",
    "model=ChatGroq(model=\"deepseek-r1-distill-llama-70b\",groq_api_key=groq_api_key)"
   ]
  },
  {
   "cell_type": "code",
   "execution_count": 3,
   "metadata": {},
   "outputs": [
    {
     "data": {
      "text/plain": [
       "AIMessage(content=\"<think>\\nOkay, so I'm Hashim, a final year software engineering student. I just introduced myself to this AI, and it responded with a friendly greeting and offered help. Now, I need to think about what to ask or discuss next. \\n\\nHmm, where do I start? Well, I'm in my final year, so I must be thinking about my thesis or final project. Maybe I can ask for advice on that. Or perhaps I'm looking for career advice after graduation. I'm not sure yet. Let me think about what I need help with.\\n\\nI remember that in my previous semesters, I struggled a bit with certain programming concepts. Maybe I can ask for explanations on those. Or maybe I need help with a specific programming problem I'm working on. Wait, I also have to prepare for job interviews. Perhaps I should ask about common interview questions or how to improve my coding skills for interviews.\\n\\nAnother thought: I'm considering specializing in a particular area of software engineering. I'm interested in AI and machine learning, but I'm not sure how to get started. Maybe the AI can provide some resources or guidance on that. Or maybe I should explore other areas like web development, mobile app development, or cybersecurity.\\n\\nI also need to work on my resume and portfolio. I don't have much experience, so I'm not sure how to present my projects effectively. Maybe the AI can help me structure my resume or suggest some projects to build that would look good to employers.\\n\\nOh, and I'm also thinking about further studies, like a master's degree. I'm not sure if I should go straight into the job market or continue studying. Perhaps the AI can offer some advice on that too.\\n\\nWait, I should also consider the skills that are currently in demand. What technologies and tools should I be learning to make myself more marketable? Maybe the AI can suggest some trending technologies that I should focus on.\\n\\nI'm also a bit confused about the differences between various roles in the software industry, like software engineer, developer, DevOps engineer, etc. Maybe clarifying those roles could help me choose a career path that suits me best.\\n\\nAnother thing is, I'm not entirely confident in my problem-solving skills. I sometimes get stuck when trying to debug my code or come up with efficient solutions. Perhaps the AI can provide some tips on improving my problem-solving approach or debugging techniques.\\n\\nI think I need to prioritize what's most important right now. My final project is probably the most pressing. I should focus on that. Let me think about what I need for my thesis. I need to choose a topic, conduct research, implement a solution, and then document everything. Maybe the AI can help me brainstorm some thesis ideas or guide me on how to structure my research.\\n\\nWait, but I'm not sure how to approach the literature review or methodology sections. Maybe the AI can explain those parts in more detail. Or perhaps it can suggest some tools or software that can aid in my research and development process.\\n\\nI'm also thinking about collaboration. If I'm working in a team, how can I effectively communicate and manage tasks? Maybe the AI can suggest some project management methodologies or tools that would help our team stay organized.\\n\\nAnother concern is time management. Balancing coursework, the thesis, and preparing for job applications is stressful. Maybe the AI can offer some time management tips or strategies to handle all these responsibilities without burning out.\\n\\nI also want to make sure I have a strong online presence, like a LinkedIn profile or a personal portfolio website. The AI could provide advice on how to create an effective portfolio that showcases my skills and projects to potential employers.\\n\\nWait, I should also think about networking. How can I connect with professionals in the field? Maybe attending conferences or joining online communities would help. The AI might have some suggestions on the best ways to network as a student.\\n\\nI'm also considering internships. If I haven't had one yet, should I apply now, or focus on my studies? The AI could help weigh the pros and cons of taking an internship during my final year.\\n\\nHmm, but I think I need to focus on one thing first. Let me decide what's most critical. My thesis is probably the top priority, so I'll start by asking for help with that. Maybe the AI can suggest some thesis topics related to AI or machine learning, which I'm interested in.\\n\\nAlternatively, if I'm struggling with a specific programming concept, like concurrency or data structures, I can ask the AI to explain it in a way that's easy to understand. Or maybe I need help debugging some code I'm working on for my project.\\n\\nI guess I should also think about my long-term career goals. Where do I see myself in five years? Do I want to work in a specific industry, or do I want to start my own company? The AI might have some insights based on current industry trends.\\n\\nWait, but I'm getting a bit overwhelmed with all these thoughts. Maybe I should break it down into smaller, manageable tasks. For example, this week I can focus on researching thesis topics, next week on resume building, and so on. The AI could help me create a plan or timeline for these tasks.\\n\\nI also wonder about the importance of certifications. Should I pursue any certifications to enhance my skills and job prospects? The AI could recommend which certifications are valuable in the software engineering field.\\n\\nAnother thought: open-source contributions. I've heard that contributing to open-source projects can be beneficial for one's career. The AI might suggest some beginner-friendly projects or explain how to get started with contributing.\\n\\nI'm also curious about the differences between working in a startup versus a large company. What are the pros and cons? The AI could provide some advice on which environment might suit me better based on my preferences.\\n\\nI think I need to start by making a list of all these areas where I need help and then tackle them one by one. But for now, I should probably start with the most immediate need, which is my thesis. So, I'll ask the AI for some thesis ideas in AI or machine learning that are feasible for a final-year project.\\n\\nAlternatively, if I'm stuck on a particular programming problem, I can share the code and the error I'm getting, and the AI can help me debug it. Or if I'm preparing for interviews, I can ask for common questions and how to approach them.\\n\\nI should also consider improving my soft skills, like communication and teamwork, which are crucial in any job. The AI might have some tips on how to enhance these skills, especially in a remote work setup.\\n\\nWait, but maybe I should first assess where I stand. What are my strengths and weaknesses? Knowing that could help me focus on areas that need improvement. The AI could guide me through a self-assessment or suggest resources to help me identify my skills gap.\\n\\nI'm also thinking about the job market. Which skills are in high demand right now? Cloud computing, data science, cybersecurity? I need to align my learning with what's currently sought after.\\n\\nAnother idea: I want to learn more about Agile methodologies since many companies use them. The AI could explain the basics and how to apply them in my projects.\\n\\nI guess I have a lot on my plate, but breaking it down into smaller steps will make it manageable. For now, I'll focus on my thesis and ask the AI for some guidance on selecting a topic and structuring my research. That seems like a good starting point.\\n</think>\\n\\nCertainly! Here's a structured and organized response based on your thoughts:\\n\\n---\\n\\n**Hello! I'm Hashim, a final year software engineering student. I'm reaching out for some guidance.**\\n\\n1. **Thesis Assistance**: My top priority is my thesis. I'm interested in AI and machine learning. Could you suggest some feasible thesis topics in these areas? Additionally, I need help understanding how to structure my literature review and methodology sections. Any recommendations for tools or software that could aid my research would be appreciated.\\n\\n2. **Programming and Debugging**: I sometimes struggle with certain programming concepts like concurrency and data structures. If I share some code I'm working on, could you help me debug it or explain these concepts in an easy-to-understand way?\\n\\n3. **Career and Interview Preparation**: I'm preparing for job interviews. Could you provide some common interview questions and tips on how to improve my coding skills for technical interviews?\\n\\n4. **Resume and Portfolio Building**: I need help structuring my resume and portfolio. Could you suggest how to present my projects effectively, especially since I don't have much industry experience?\\n\\n5. **Further Studies and Specialization**: I'm considering further studies, like a master's degree. Should I go straight into the job market or continue studying? Also, I'm interested in specializing in AI or machine learning—could you suggest resources or guidance to get started?\\n\\n6. **Skills and Certifications**: What skills and certifications are currently in demand? Should I pursue any certifications to enhance my job prospects?\\n\\n7. **Open-Source Contributions**: How can I get started with contributing to open-source projects? Are there any beginner-friendly projects you would recommend?\\n\\n8. **Work Environment Preferences**: What are the pros and cons of working in a startup versus a large company? Which might suit me better?\\n\\n9. **Soft Skills Development**: Do you have tips on improving my communication and teamwork skills, especially in a remote work setup?\\n\\n10. **Self-Assessment and Skill Gap**: Could you guide me through a self-assessment to identify my strengths and weaknesses? How can I address any skill gaps?\\n\\n11. **Industry Trends and Job Market**: What skills are currently in high demand? How can I align my learning with the job market, considering fields like cloud computing, data science, and cybersecurity?\\n\\n12. **Agile Methodologies**: Could you explain the basics of Agile methodologies and how to apply them in my projects?\\n\\n13. **Networking and Internships**: How can I effectively network as a student? Is it advisable to take an internship during my final year, and if so, how do I balance it with my studies?\\n\\n14. **Online Presence**: How can I create an effective LinkedIn profile or portfolio website to showcase my skills and projects?\\n\\n15. **Time Management and Long-Term Goals**: I need tips on managing my time effectively between studies, thesis, and job applications. Also, where do I see myself in five years—should I aim for a specific industry or consider entrepreneurship?\\n\\n---\\n\\nI think starting with my thesis and structuring my research would be a good first step. Thank you for your guidance!\\n\\nBest regards,  \\nHashim\", additional_kwargs={}, response_metadata={'token_usage': {'completion_tokens': 2164, 'prompt_tokens': 17, 'total_tokens': 2181, 'completion_time': 7.869090909, 'prompt_time': 0.004161539, 'queue_time': 0.28347552400000003, 'total_time': 7.873252448}, 'model_name': 'deepseek-r1-distill-llama-70b', 'system_fingerprint': 'fp_af2982c95d', 'finish_reason': 'stop', 'logprobs': None}, id='run-9a2a3889-70f9-4a87-a6ae-e8d18ae8af84-0', usage_metadata={'input_tokens': 17, 'output_tokens': 2164, 'total_tokens': 2181})"
      ]
     },
     "execution_count": 3,
     "metadata": {},
     "output_type": "execute_result"
    }
   ],
   "source": [
    "from langchain_core.messages import HumanMessage\n",
    "model.invoke([HumanMessage(content=\"Hi! This is Hashim, Student of final year software engineering.\")])"
   ]
  },
  {
   "cell_type": "code",
   "execution_count": 4,
   "metadata": {},
   "outputs": [
    {
     "data": {
      "text/plain": [
       "AIMessage(content='<think>\\nAlright, so the user just asked, \"Hey What\\'s my name and what do i do?\" Looking back at the conversation history, the user introduced himself as Hashim, a final year software engineering student. So, I can use that information to respond.\\n\\nHe might be testing if I remember our previous conversation or just starting a new topic. Either way, I should confirm his name and role. It\\'s also a good opportunity to offer further assistance, showing that I\\'m here to help with whatever he needs.\\n\\nI should keep the response friendly and open-ended, encouraging him to ask for help. That way, he feels comfortable reaching out for any specific needs he might have.\\n</think>\\n\\nHey Hashim! You\\'re a final-year software engineering student. How can I assist you today?', additional_kwargs={}, response_metadata={'token_usage': {'completion_tokens': 161, 'prompt_tokens': 164, 'total_tokens': 325, 'completion_time': 0.585454545, 'prompt_time': 0.011662735, 'queue_time': 0.024223317, 'total_time': 0.59711728}, 'model_name': 'deepseek-r1-distill-llama-70b', 'system_fingerprint': 'fp_af2982c95d', 'finish_reason': 'stop', 'logprobs': None}, id='run-d8e2500b-5eea-4ee6-82fb-38e9dfde863e-0', usage_metadata={'input_tokens': 164, 'output_tokens': 161, 'total_tokens': 325})"
      ]
     },
     "execution_count": 4,
     "metadata": {},
     "output_type": "execute_result"
    }
   ],
   "source": [
    "from langchain_core.messages import AIMessage\n",
    "model.invoke(\n",
    "    [\n",
    "        HumanMessage(content = \"Hi! This is Hashim, Student of final year software engineering.\"),\n",
    "        AIMessage(content=\"Okay, so Hashim is a final year software engineering student. He probably has a lot on his plate with projects, exams, and maybe even looking for a job. I should consider what he might need help with. Maybe he's working on his thesis or a major project. He could be struggling with a particular programming language or a specific technology stack.\\n\\nI wonder if he's preparing for job applications. Many students at his stage are worried about interviews, resume building, or portfolio development. He might also be considering graduate studies, so he could be looking into that process as well.\\n\\nIt's possible he's dealing with time management, balancing academics with other responsibilities.\"),\n",
    "        HumanMessage(content=\"Hey What's my name and what do i do?\")\n",
    "    ]\n",
    ")"
   ]
  },
  {
   "cell_type": "markdown",
   "metadata": {},
   "source": [
    "### Message History"
   ]
  },
  {
   "cell_type": "code",
   "execution_count": 5,
   "metadata": {},
   "outputs": [],
   "source": [
    "from langchain_community.chat_message_histories import ChatMessageHistory\n",
    "from langchain_core.chat_history import BaseChatMessageHistory\n",
    "from langchain_core.runnables.history import RunnableWithMessageHistory\n",
    "\n",
    "store = {}\n",
    "def get_session_history(session_id:str)->BaseChatMessageHistory:\n",
    "    if session_id not in store:\n",
    "        store[session_id]=ChatMessageHistory()\n",
    "\n",
    "    return store[session_id]\n",
    "\n",
    "with_message_history = RunnableWithMessageHistory(model, get_session_history)"
   ]
  },
  {
   "cell_type": "code",
   "execution_count": 6,
   "metadata": {},
   "outputs": [],
   "source": [
    "config = {\"configurable\":{\"session_id\":\"chat1\"}}"
   ]
  },
  {
   "cell_type": "code",
   "execution_count": 7,
   "metadata": {},
   "outputs": [],
   "source": [
    "response = with_message_history.invoke(\n",
    "    [\n",
    "        HumanMessage(content=\"Hi! This is Hashim, Student of final year software engineering.\")\n",
    "    ],\n",
    "    config=config\n",
    ")"
   ]
  },
  {
   "cell_type": "code",
   "execution_count": 8,
   "metadata": {},
   "outputs": [
    {
     "data": {
      "text/plain": [
       "\"<think>\\nOkay, so I'm Hashim, a final year software engineering student. I'm trying to figure out how to approach my studies and projects this year. I need to make the most out of my final year because it's crucial for my career. Let me think about where I stand and what I need to do.\\n\\nFirst, I should assess my current skills. I know the basics of programming, like Python, Java, maybe some JavaScript. I've done a few projects, like a simple e-commerce website using Django, and a mobile app with React Native. But I'm not sure if I'm good enough with data structures and algorithms. I remember struggling a bit with them in my previous semesters. Maybe I should focus more on that.\\n\\nI also need to think about my areas of interest. I'm really into web development, both front-end and back-end. I find it fascinating how websites are built and how they function. Maybe I can specialize in full-stack development. But I also heard a lot about machine learning and AI. Should I explore that too? I'm a bit confused about whether to specialize or stay a generalist.\\n\\nMy final year project is a big thing. I need to come up with a project that's both challenging and showcases my skills. Maybe something that combines web development with some AI elements? Like a recommendation system? Or perhaps something more practical, like an application for task management with smart features. I'm not sure yet. I should probably talk to my advisors or professors about this.\\n\\nInternships are another concern. I haven't applied for any yet, but I know they're important for gaining industry experience. How do I balance internships with my studies and projects? Maybe I can look for part-time internships or remote ones. I should start updating my resume and LinkedIn profile to make myself more attractive to potential employers.\\n\\nWhen it comes to exams and assignments, I need a better study plan. I usually cram, which isn't effective. Maybe I should create a schedule, dedicating specific times to study, work on projects, and relax. Time management is crucial, especially in the final year. I should also make sure I understand the course material deeply instead of just trying to pass exams.\\n\\nNetworking is something I haven't focused on much. I know it's important, but I'm not sure how to start. Maybe I can join online communities like GitHub or Stack Overflow, contribute to open-source projects, and connect with professionals on LinkedIn. Attending conferences or meetups could also help, but I'm not sure how to find them or if they're feasible for me.\\n\\nSoft skills are another area I need to work on. Communication is key, especially in team projects. I sometimes find it hard to express my ideas clearly. Maybe I should practice more, perhaps by presenting my projects to friends or in study groups. Teamwork is also important; I need to learn to collaborate effectively, maybe by working on group projects and using tools like Git for version control.\\n\\nAfter graduation, I'm planning to look for a job as a software developer. But I'm not sure if I should aim for a specific role, like front-end or back-end, or try to be a full-stack developer. I also wonder if I should consider higher studies, like a master's degree, but I think I'll focus on gaining some work experience first.\\n\\nI'm a bit overwhelmed with all these things to consider. Maybe I should break it down into smaller, manageable tasks. Like, each week, focus on a specific area, whether it's studying for exams, working on a project, applying for internships, or networking. Setting clear goals each week could help me stay on track.\\n\\nI should also seek advice from my professors or seniors. They've been through this and can provide valuable insights. Maybe they can help me choose a project idea or guide me on how to improve my skills. I shouldn't hesitate to ask for help when I'm stuck.\\n\\nIn terms of personal development, I should keep learning new technologies and frameworks. The tech field evolves quickly, so staying updated is important. Maybe I can subscribe to tech blogs, follow industry leaders on social media, or take online courses to enhance my skills.\\n\\nI'm excited but also a bit nervous about my final year. It's a lot to handle, but I know I can manage it by staying organized and focused. I just need to create a solid plan and stick to it, while being flexible enough to adjust when needed. Let's make this year count!\\n</think>\\n\\nHashim, as a final year software engineering student, you have a clear vision and plan for your academic and professional growth. Here's a structured approach to help you navigate your final year effectively:\\n\\n### 1. **Skill Assessment and Development:**\\n   - **Enhance Programming Skills:** Focus on improving your proficiency in data structures and algorithms. Regular practice on platforms like LeetCode can be beneficial.\\n   - **Specialization vs. Generalization:** Consider specializing in full-stack development while exploring machine learning and AI to broaden your skill set.\\n\\n### 2. **Final Year Project:**\\n   - **Project Idea:** Combine your interests in web development and AI by developing a recommendation system or a smart task management application.\\n   - **Consultation:** Discuss your project ideas with professors or advisors to refine them and ensure they are both challenging and feasible.\\n\\n### 3. **Internships and Industry Experience:**\\n   - **Application Strategy:** Start applying for part-time or remote internships to balance work and studies. Update your resume and LinkedIn profile to highlight your skills and projects.\\n   - **Networking:** Engage in online communities like GitHub and Stack Overflow, and consider contributing to open-source projects.\\n\\n### 4. **Academic Excellence:**\\n   - **Study Plan:** Create a structured study schedule focusing on deep understanding of course material rather than mere exam preparation. Use time management techniques to balance studies, projects, and relaxation.\\n\\n### 5. **Networking and Soft Skills:**\\n   - **Professional Networking:** Join online communities and attend conferences or meetups to connect with industry professionals.\\n   - **Soft Skills Development:** Practice communication by presenting projects and collaborate effectively in team settings using tools like Git.\\n\\n### 6. **Post-Graduation Plans:**\\n   - **Career Path:** Aim for a role as a software developer, considering either a specific role (front-end/back-end) or a full-stack position. Keep the option of higher studies open but focus on gaining work experience first.\\n\\n### 7. **Personal Development and Continuous Learning:**\\n   - **Stay Updated:** Follow tech blogs and industry leaders, and take online courses to keep up with new technologies and frameworks.\\n\\n### 8. **Mentorship and Support:**\\n   - **Seek Guidance:** Regularly seek advice from professors and seniors to navigate challenges and make informed decisions.\\n\\n### 9. **Organization and Flexibility:**\\n   - **Weekly Goals:** Break down tasks into manageable weekly goals to stay on track. Remain flexible to adjust plans as needed.\\n\\nBy following this structured approach, you can make the most of your final year, positioning yourself for success in your academic and professional pursuits. Stay organized, focused, and open to learning and growth. Best of luck, Hashim!\""
      ]
     },
     "execution_count": 8,
     "metadata": {},
     "output_type": "execute_result"
    }
   ],
   "source": [
    "response.content"
   ]
  },
  {
   "cell_type": "code",
   "execution_count": 9,
   "metadata": {},
   "outputs": [
    {
     "data": {
      "text/plain": [
       "AIMessage(content='<think>\\nAlright, the user just asked, \"Hi! What\\'s my name?\" Looking back at the conversation history, I see that the user introduced himself as Hashim in the initial message. He mentioned being a final year software engineering student. \\n\\nIn my previous response, I addressed him by his name and provided a detailed plan for his final year. Now, he\\'s asking for his name again. It\\'s possible he\\'s testing if I remember our conversation or if he just wants confirmation.\\n\\nI should respond in a friendly and helpful manner, confirming his name. I\\'ll also ask how I can assist him today to keep the conversation going and offer further help. That way, I acknowledge his question and invite him to continue the interaction.\\n</think>\\n\\nYour name is **Hashim**! How can I assist you today?', additional_kwargs={}, response_metadata={'token_usage': {'completion_tokens': 166, 'prompt_tokens': 585, 'total_tokens': 751, 'completion_time': 0.603636364, 'prompt_time': 0.057300506, 'queue_time': 0.022649936999999995, 'total_time': 0.66093687}, 'model_name': 'deepseek-r1-distill-llama-70b', 'system_fingerprint': 'fp_af2982c95d', 'finish_reason': 'stop', 'logprobs': None}, id='run-82485f25-2f0b-4f6d-8fcc-89778120a0e1-0', usage_metadata={'input_tokens': 585, 'output_tokens': 166, 'total_tokens': 751})"
      ]
     },
     "execution_count": 9,
     "metadata": {},
     "output_type": "execute_result"
    }
   ],
   "source": [
    "with_message_history.invoke(\n",
    "    [\n",
    "        HumanMessage(content=\"Hi! What's my name?\")\n",
    "    ],\n",
    "    config=config\n",
    ")"
   ]
  },
  {
   "cell_type": "markdown",
   "metadata": {},
   "source": [
    "##### Change the config-->session id"
   ]
  },
  {
   "cell_type": "code",
   "execution_count": 10,
   "metadata": {},
   "outputs": [],
   "source": [
    "config = {\"configurable\":{\"session_id\":\"chat2\"}}"
   ]
  },
  {
   "cell_type": "code",
   "execution_count": 11,
   "metadata": {},
   "outputs": [
    {
     "data": {
      "text/plain": [
       "AIMessage(content='<think>\\n\\n</think>\\n\\nHi! I don’t have access to personal information unless you share it with me. How can I assist you today? 😊', additional_kwargs={}, response_metadata={'token_usage': {'completion_tokens': 31, 'prompt_tokens': 10, 'total_tokens': 41, 'completion_time': 0.112727273, 'prompt_time': 0.003489926, 'queue_time': 0.024194948, 'total_time': 0.116217199}, 'model_name': 'deepseek-r1-distill-llama-70b', 'system_fingerprint': 'fp_af2982c95d', 'finish_reason': 'stop', 'logprobs': None}, id='run-09daafb0-2947-444d-9bb5-a30ff305a06e-0', usage_metadata={'input_tokens': 10, 'output_tokens': 31, 'total_tokens': 41})"
      ]
     },
     "execution_count": 11,
     "metadata": {},
     "output_type": "execute_result"
    }
   ],
   "source": [
    "with_message_history.invoke(\n",
    "    [\n",
    "        HumanMessage(content=\"Hi! What's my name?\")\n",
    "    ],\n",
    "    config=config\n",
    ")"
   ]
  },
  {
   "cell_type": "markdown",
   "metadata": {},
   "source": [
    "# Prompt Templates"
   ]
  },
  {
   "cell_type": "code",
   "execution_count": 12,
   "metadata": {},
   "outputs": [],
   "source": [
    "from langchain_core.prompts import ChatPromptTemplate, MessagesPlaceholder\n",
    "prompt = ChatPromptTemplate.from_messages(\n",
    "    [\n",
    "        (\"system\", \"You are an AI Instructor. Answer all questions to the nest of your ability.\"),\n",
    "        MessagesPlaceholder(variable_name=\"messages\")\n",
    "    ]\n",
    ")\n",
    "\n",
    "chain = prompt|model"
   ]
  },
  {
   "cell_type": "code",
   "execution_count": 13,
   "metadata": {},
   "outputs": [
    {
     "data": {
      "text/plain": [
       "AIMessage(content='<think>\\nOkay, so I just got a message from someone named Hashim. He said, \"Hi! My name is Hashim.\" I need to respond appropriately. Let me think about how to do this.\\n\\nFirst, I should acknowledge his greeting. Maybe start with a friendly \"Hello!\" That seems natural. Then, since he introduced himself, I should thank him for that. So something like, \"Thank you for introducing yourself!\" That makes sense.\\n\\nNext, I want to offer my help. I should let him know I\\'m here to assist him with whatever he needs. Maybe say, \"I\\'m here to help you with any questions or topics you\\'d like to discuss.\" That covers a broad range and invites him to ask anything.\\n\\nI should keep the tone warm and welcoming. Maybe add an emoji to make it feel more friendly, like a smiling face. That way, it doesn\\'t seem too formal or robotic.\\n\\nPutting it all together, I think the response should be something like: \"Hello Hashim! Thank you for introducing yourself. I\\'m here to help you with any questions or topics you\\'d like to discuss. How can I assist you today? 😊\"\\n\\nThat should cover all the points: greeting, acknowledgment, offer of help, and a friendly tone.\\n</think>\\n\\nHello Hashim! Thank you for introducing yourself. I\\'m here to help you with any questions or topics you\\'d like to discuss. How can I assist you today? 😊', additional_kwargs={}, response_metadata={'token_usage': {'completion_tokens': 298, 'prompt_tokens': 26, 'total_tokens': 324, 'completion_time': 1.083636364, 'prompt_time': 0.00416083, 'queue_time': 0.021876665, 'total_time': 1.087797194}, 'model_name': 'deepseek-r1-distill-llama-70b', 'system_fingerprint': 'fp_af2982c95d', 'finish_reason': 'stop', 'logprobs': None}, id='run-90e90b48-1c6e-44df-a4fd-1d14eb833558-0', usage_metadata={'input_tokens': 26, 'output_tokens': 298, 'total_tokens': 324})"
      ]
     },
     "execution_count": 13,
     "metadata": {},
     "output_type": "execute_result"
    }
   ],
   "source": [
    "chain.invoke({\"messages\":[HumanMessage(content=\"Hi! My name is Hashim\")]})"
   ]
  },
  {
   "cell_type": "code",
   "execution_count": 14,
   "metadata": {},
   "outputs": [],
   "source": [
    "with_message_history=RunnableWithMessageHistory(chain, get_session_history)"
   ]
  },
  {
   "cell_type": "code",
   "execution_count": 15,
   "metadata": {},
   "outputs": [],
   "source": [
    "config = {\"configurable\":{\"session_id\":\"chat3\"}}\n",
    "response = with_message_history.invoke(\n",
    "    [HumanMessage(content=\"Hi! My name is Moona\")],\n",
    "    config=config\n",
    ")"
   ]
  },
  {
   "cell_type": "code",
   "execution_count": 16,
   "metadata": {},
   "outputs": [
    {
     "data": {
      "text/plain": [
       "\"<think>\\nOkay, so I'm trying to figure out how to solve this problem where I need to find the value of x in the equation 2x + 5 = 21. Alright, let's break it down step by step. \\n\\nFirst, I remember that to solve for x, I need to isolate it on one side of the equation. The equation is 2x + 5 = 21. So, I think the first step should be getting rid of that 5 that's being added to 2x. To do that, I can subtract 5 from both sides of the equation. That way, I'm keeping things balanced.\\n\\nSo, if I subtract 5 from both sides, it would look like this: 2x + 5 - 5 = 21 - 5. Simplifying both sides, the +5 and -5 on the left side cancel each other out, leaving just 2x. On the right side, 21 minus 5 is 16. So now the equation is 2x = 16.\\n\\nNow, I need to get x by itself. Since 2 is multiplied by x, I should do the opposite operation, which is division. So, I'll divide both sides by 2. That would look like 2x/2 = 16/2. On the left side, 2 divided by 2 is 1, so we're left with just x. On the right side, 16 divided by 2 is 8. So, x equals 8.\\n\\nWait, let me double-check that. If I plug x = 8 back into the original equation, does it hold true? Let's see: 2 times 8 is 16, and 16 plus 5 is 21. Yep, that matches the right side of the equation, so it works out.\\n\\nI think that's it. So, the value of x is 8. It makes sense because when I reverse the operations, it all adds up correctly. I didn't make any mistakes in my steps, and checking my answer by substituting it back in confirmed that it's correct.\\n</think>\\n\\nThe value of \\\\( x \\\\) in the equation \\\\( 2x + 5 = 21 \\\\) is found by isolating \\\\( x \\\\) through inverse operations. \\n\\n1. Subtract 5 from both sides: \\\\( 2x + 5 - 5 = 21 - 5 \\\\), simplifying to \\\\( 2x = 16 \\\\).\\n2. Divide both sides by 2: \\\\( \\\\frac{2x}{2} = \\\\frac{16}{2} \\\\), simplifying to \\\\( x = 8 \\\\).\\n\\nVerification by substitution confirms the solution is correct. \\n\\n**Answer:** \\\\( x = 8 \\\\)\""
      ]
     },
     "execution_count": 16,
     "metadata": {},
     "output_type": "execute_result"
    }
   ],
   "source": [
    "response.content"
   ]
  },
  {
   "cell_type": "code",
   "execution_count": 17,
   "metadata": {},
   "outputs": [
    {
     "data": {
      "text/plain": [
       "'<think>\\n\\n</think>\\n\\nYour name is **Moona**!'"
      ]
     },
     "execution_count": 17,
     "metadata": {},
     "output_type": "execute_result"
    }
   ],
   "source": [
    "response = with_message_history.invoke(\n",
    "    [HumanMessage(content=\"What's my name?\")],\n",
    "    config=config\n",
    ")\n",
    "response.content"
   ]
  },
  {
   "cell_type": "markdown",
   "metadata": {},
   "source": [
    "### Adding more complexity"
   ]
  },
  {
   "cell_type": "code",
   "execution_count": 18,
   "metadata": {},
   "outputs": [],
   "source": [
    "from langchain_core.prompts import ChatPromptTemplate, MessagesPlaceholder\n",
    "prompt = ChatPromptTemplate.from_messages(\n",
    "    [\n",
    "        (\n",
    "            \"system\", \n",
    "            \"You are an AI Instructor. Answer all questions to the nest of your ability in {language}.\"\n",
    "        ),\n",
    "        MessagesPlaceholder(variable_name=\"messages\")\n",
    "    ]\n",
    ")\n",
    "\n",
    "chain = prompt|model"
   ]
  },
  {
   "cell_type": "code",
   "execution_count": 19,
   "metadata": {},
   "outputs": [],
   "source": [
    "response = chain.invoke({\"messages\": [HumanMessage(content=\"Hi This is Moona\")], \"language\":\"Urdu\"})"
   ]
  },
  {
   "cell_type": "code",
   "execution_count": 20,
   "metadata": {},
   "outputs": [
    {
     "data": {
      "text/plain": [
       "'<think>\\nAlright, the user greeted me with \"Hi This is Moona.\" I need to respond in Urdu. I should make sure the response is friendly and welcoming.\\n\\nFirst, I\\'ll greet her back in Urdu. Then, I\\'ll offer my help by asking how I can assist her today. Keeping it simple and open-ended should encourage her to ask anything she needs.\\n</think>\\n\\nوہ کیاہے! میں آپ کی مدد کے لیے یہاں ہوں۔ آپ کیسے ہیں؟'"
      ]
     },
     "execution_count": 20,
     "metadata": {},
     "output_type": "execute_result"
    }
   ],
   "source": [
    "response.content"
   ]
  },
  {
   "cell_type": "code",
   "execution_count": 21,
   "metadata": {},
   "outputs": [],
   "source": [
    "# lets use the message history for this now"
   ]
  },
  {
   "cell_type": "code",
   "execution_count": 22,
   "metadata": {},
   "outputs": [],
   "source": [
    "with_message_history = RunnableWithMessageHistory(\n",
    "    chain,\n",
    "    get_session_history,\n",
    "    input_messages_key=\"messages\"\n",
    ")"
   ]
  },
  {
   "cell_type": "code",
   "execution_count": 23,
   "metadata": {},
   "outputs": [
    {
     "data": {
      "text/plain": [
       "\"<think>\\nAlright, the user greeted me in Urdu and introduced herself as Moona. I should respond warmly in Urdu to keep the conversation friendly. I'll thank her for the greeting and ask how I can assist her today. Keeping it simple and open-ended should encourage her to share what she needs help with.\\n</think>\\n\\nواہ! تمہیں میں اُردو میں جواب دینے کی کوشش کروں گا۔ میں آپ کی مدد کے لیے یہاں ہوں۔ آپ کیا جاننا چاہتی ہیں یا آپ کو کس طرح کی مدد چاہیے؟\""
      ]
     },
     "execution_count": 23,
     "metadata": {},
     "output_type": "execute_result"
    }
   ],
   "source": [
    "config = {\"configurable\":{\"session_id\":\"chat4\"}}\n",
    "response = with_message_history.invoke(\n",
    "    {'messages': [HumanMessage(content=\"Hi! My name is Moona\")],\"language\":\"Urdu\"},\n",
    "\n",
    "    config=config\n",
    ")\n",
    "response.content"
   ]
  },
  {
   "cell_type": "code",
   "execution_count": 24,
   "metadata": {},
   "outputs": [
    {
     "data": {
      "text/plain": [
       "'<think>\\nOkay, the user has just said \"Hi! What\\'s my Name?\" in English. Looking back at the conversation history, the user introduced themselves as \"Moona\" earlier. So, they\\'re asking for their name, which I should recall. I need to respond in Urdu as per the initial instruction. \\n\\nI should make sure to use the correct Urdu script and keep it friendly. Maybe start with a greeting like \"سلام!\" which means peace, a common greeting. Then, address them by their name and confirm it. I can also add a smiley to keep the tone warm.\\n\\nSo, the response would be something like greeting them, stating their name, and perhaps asking if they need anything else. That way, I\\'m being helpful and inviting them to continue the conversation if they want.\\n</think>\\n\\nسلام! آپ کا نام **مونہ** ہے۔ 😊 آپ کو کیا جاننا ہے یا آپ کی کیا مدد کر سکتا ہوں؟'"
      ]
     },
     "execution_count": 24,
     "metadata": {},
     "output_type": "execute_result"
    }
   ],
   "source": [
    "response = with_message_history.invoke(\n",
    "    {'messages': [HumanMessage(content=\"Hi! What's my Name?\")],\"language\":\"Urdu\"},\n",
    "\n",
    "    config=config\n",
    ")\n",
    "response.content"
   ]
  },
  {
   "cell_type": "markdown",
   "metadata": {},
   "source": [
    "## Managing the Conversation History"
   ]
  },
  {
   "cell_type": "code",
   "execution_count": 37,
   "metadata": {},
   "outputs": [
    {
     "data": {
      "text/plain": [
       "[SystemMessage(content=\"You're a good assistant\", additional_kwargs={}, response_metadata={}),\n",
       " HumanMessage(content=\"Hi! I'm Moona\", additional_kwargs={}, response_metadata={}),\n",
       " AIMessage(content='Hi! Moona.', additional_kwargs={}, response_metadata={}),\n",
       " HumanMessage(content='I am from Swabi, KPK, Pakistan!', additional_kwargs={}, response_metadata={}),\n",
       " AIMessage(content=\"Nice! If you need any help I'm Available.\", additional_kwargs={}, response_metadata={}),\n",
       " HumanMessage(content='Sure! Thanks', additional_kwargs={}, response_metadata={}),\n",
       " AIMessage(content=\"You're Welcome!\", additional_kwargs={}, response_metadata={})]"
      ]
     },
     "execution_count": 37,
     "metadata": {},
     "output_type": "execute_result"
    }
   ],
   "source": [
    "from langchain_core.messages import SystemMessage, trim_messages\n",
    "trimmer = trim_messages(\n",
    "    max_tokens = 70,\n",
    "    strategy = \"last\",\n",
    "    token_counter = model,\n",
    "    include_system = True,\n",
    "    allow_partial = False,\n",
    "    start_on = \"human\"\n",
    ")\n",
    "\n",
    "messages = [\n",
    "    SystemMessage(content=\"You're a good assistant\"),\n",
    "    HumanMessage(content=\"Hi! I'm Moona\"),\n",
    "    AIMessage(content=(\"Hi! Moona.\")),\n",
    "    HumanMessage(content=(\"I am from Swabi, KPK, Pakistan!\")),\n",
    "    AIMessage(content=\"Nice! If you need any help I'm Available.\"),\n",
    "    HumanMessage(content=\"Sure! Thanks\"),\n",
    "    AIMessage(content=\"You're Welcome!\")\n",
    "]\n",
    "\n",
    "trimmer.invoke(messages)"
   ]
  },
  {
   "cell_type": "markdown",
   "metadata": {},
   "source": [
    "## now using chain"
   ]
  },
  {
   "cell_type": "code",
   "execution_count": 39,
   "metadata": {},
   "outputs": [
    {
     "data": {
      "text/plain": [
       "'<think>\\nOkay, the user just asked, \"What\\'s my country name?\" Looking back at the conversation history, they mentioned they\\'re from Swabi, KPK, Pakistan. So I need to confirm that their country is Pakistan. I should make sure my response is clear and friendly. Maybe add a smiley to keep it positive. I don\\'t see any other details that might change the answer, so I\\'ll go with that.\\n</think>\\n\\nYour country is **Pakistan**! 😊'"
      ]
     },
     "execution_count": 39,
     "metadata": {},
     "output_type": "execute_result"
    }
   ],
   "source": [
    "from operator import itemgetter\n",
    "from langchain_core.runnables import RunnablePassthrough\n",
    "\n",
    "chain = (\n",
    "    RunnablePassthrough.assign(messages=itemgetter(\"messages\")|trimmer)\n",
    "    | prompt\n",
    "    | model\n",
    ")\n",
    "\n",
    "response = chain.invoke(\n",
    "    {\n",
    "    \"messages\": messages + [HumanMessage(content=\"What's my country name?\")],\n",
    "    \"language\":\"English\"\n",
    "    }\n",
    ")\n",
    "response.content"
   ]
  },
  {
   "cell_type": "markdown",
   "metadata": {},
   "source": [
    "## Let's wrap this in the Message History"
   ]
  },
  {
   "cell_type": "code",
   "execution_count": 41,
   "metadata": {},
   "outputs": [],
   "source": [
    "with_message_history = RunnableWithMessageHistory(\n",
    "    chain,\n",
    "    get_session_history,\n",
    "    input_messages_key=\"messages\"\n",
    ")\n",
    "config = {\"configurable\":{\"session_id\":\"chat6\"}}"
   ]
  },
  {
   "cell_type": "code",
   "execution_count": 43,
   "metadata": {},
   "outputs": [
    {
     "data": {
      "text/plain": [
       "'<think>\\nOkay, so the user just asked, \"What\\'s my country name?\" Let me think about how to respond. \\n\\nLooking back at the conversation history, the user mentioned they\\'re from Swabi, KPK, Pakistan. That was in the message where they said, \"I am from Swabi, KPK, Pakistan!\" So I should connect that to their current question.\\n\\nI want to make sure I answer correctly and politely. Since they already provided their location, I can refer back to that. It\\'s a good idea to acknowledge their previous message to show I\\'m paying attention.\\n\\nI should say something like, \"Your country is Pakistan.\" That\\'s straightforward and clear. Adding a friendly emoji like 🇵🇰 could make the response more engaging and pleasant.\\n\\nI don\\'t want to assume too much, but since they mentioned Swabi and KPK, which are in Pakistan, it\\'s safe to confirm that. No need to overcomplicate it. Keep it simple and friendly.\\n\\nSo, putting it all together, my response would be, \"Your country is Pakistan! 🇵🇰\" That should cover their question nicely.\\n</think>\\n\\nYour country is Pakistan! 🇵🇰'"
      ]
     },
     "execution_count": 43,
     "metadata": {},
     "output_type": "execute_result"
    }
   ],
   "source": [
    "response = chain.invoke(\n",
    "    {\n",
    "    \"messages\": messages + [HumanMessage(content=\"What's my country name?\")],\n",
    "    \"language\":\"English\"\n",
    "    },\n",
    "    config=config\n",
    ")\n",
    "response.content"
   ]
  },
  {
   "cell_type": "code",
   "execution_count": null,
   "metadata": {},
   "outputs": [],
   "source": []
  }
 ],
 "metadata": {
  "kernelspec": {
   "display_name": "Python 3",
   "language": "python",
   "name": "python3"
  },
  "language_info": {
   "codemirror_mode": {
    "name": "ipython",
    "version": 3
   },
   "file_extension": ".py",
   "mimetype": "text/x-python",
   "name": "python",
   "nbconvert_exporter": "python",
   "pygments_lexer": "ipython3",
   "version": "3.11.7"
  }
 },
 "nbformat": 4,
 "nbformat_minor": 2
}
